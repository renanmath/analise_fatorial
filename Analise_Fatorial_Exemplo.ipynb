{
  "nbformat": 4,
  "nbformat_minor": 0,
  "metadata": {
    "colab": {
      "provenance": []
    },
    "kernelspec": {
      "name": "python3",
      "display_name": "Python 3"
    },
    "language_info": {
      "name": "python"
    }
  },
  "cells": [
    {
      "cell_type": "markdown",
      "source": [
        "# Introdução\n"
      ],
      "metadata": {
        "id": "Ot-YfaBwl_XU"
      }
    },
    {
      "cell_type": "markdown",
      "source": [
        "Análise fatorial é uma técnica estatística multivariada que tem como objetivo identificar as principais estruturas subjacentes a um conjunto de variáveis observadas. Essa técnica é muito utilizada em pesquisas de psicologia, educação, marketing, economia, entre outras áreas, para reduzir a complexidade de um grande número de variáveis em um número menor de fatores ou componentes principais que expliquem a maior parte da variação total dos dados.\n",
        "\n",
        "Por exemplo, imagine que você tem um questionário com muitas perguntas e quer saber se as respostas estão relacionadas entre si. A análise fatorial ajuda a encontrar quais perguntas têm respostas parecidas e agrupá-las em grupos menores. Isso facilita a interpretação dos resultados e ajuda a entender melhor como as diferentes perguntas estão relacionadas."
      ],
      "metadata": {
        "id": "fRL9rHdFmEhY"
      }
    },
    {
      "cell_type": "markdown",
      "source": [
        "Nesse notebook veremos um exemplo de análise fatorial utilizando um banco de dados com respostas de um questionário BFI (Big Five Inventory)"
      ],
      "metadata": {
        "id": "l_XadAMHmlE7"
      }
    },
    {
      "cell_type": "markdown",
      "source": [
        "# Importação e tratamento inicial"
      ],
      "metadata": {
        "id": "K_gb3dhCm3n6"
      }
    },
    {
      "cell_type": "code",
      "source": [
        "# Para a análise fatorial vamos precisar instalar a biblioteca factor_analyzer\n",
        "! pip install factor_analyzer"
      ],
      "metadata": {
        "colab": {
          "base_uri": "https://localhost:8080/"
        },
        "id": "tag5WTvYmTW0",
        "outputId": "07c44819-a56b-4359-f2f3-eee753d0fd9f"
      },
      "execution_count": 25,
      "outputs": [
        {
          "output_type": "stream",
          "name": "stdout",
          "text": [
            "Looking in indexes: https://pypi.org/simple, https://us-python.pkg.dev/colab-wheels/public/simple/\n",
            "Requirement already satisfied: factor_analyzer in /usr/local/lib/python3.9/dist-packages (0.4.1)\n",
            "Requirement already satisfied: pre-commit in /usr/local/lib/python3.9/dist-packages (from factor_analyzer) (3.2.2)\n",
            "Requirement already satisfied: scipy in /usr/local/lib/python3.9/dist-packages (from factor_analyzer) (1.10.1)\n",
            "Requirement already satisfied: scikit-learn in /usr/local/lib/python3.9/dist-packages (from factor_analyzer) (1.2.2)\n",
            "Requirement already satisfied: numpy in /usr/local/lib/python3.9/dist-packages (from factor_analyzer) (1.22.4)\n",
            "Requirement already satisfied: pandas in /usr/local/lib/python3.9/dist-packages (from factor_analyzer) (1.5.3)\n",
            "Requirement already satisfied: pytz>=2020.1 in /usr/local/lib/python3.9/dist-packages (from pandas->factor_analyzer) (2022.7.1)\n",
            "Requirement already satisfied: python-dateutil>=2.8.1 in /usr/local/lib/python3.9/dist-packages (from pandas->factor_analyzer) (2.8.2)\n",
            "Requirement already satisfied: nodeenv>=0.11.1 in /usr/local/lib/python3.9/dist-packages (from pre-commit->factor_analyzer) (1.7.0)\n",
            "Requirement already satisfied: pyyaml>=5.1 in /usr/local/lib/python3.9/dist-packages (from pre-commit->factor_analyzer) (6.0)\n",
            "Requirement already satisfied: virtualenv>=20.10.0 in /usr/local/lib/python3.9/dist-packages (from pre-commit->factor_analyzer) (20.21.0)\n",
            "Requirement already satisfied: cfgv>=2.0.0 in /usr/local/lib/python3.9/dist-packages (from pre-commit->factor_analyzer) (3.3.1)\n",
            "Requirement already satisfied: identify>=1.0.0 in /usr/local/lib/python3.9/dist-packages (from pre-commit->factor_analyzer) (2.5.22)\n",
            "Requirement already satisfied: threadpoolctl>=2.0.0 in /usr/local/lib/python3.9/dist-packages (from scikit-learn->factor_analyzer) (3.1.0)\n",
            "Requirement already satisfied: joblib>=1.1.1 in /usr/local/lib/python3.9/dist-packages (from scikit-learn->factor_analyzer) (1.2.0)\n",
            "Requirement already satisfied: setuptools in /usr/local/lib/python3.9/dist-packages (from nodeenv>=0.11.1->pre-commit->factor_analyzer) (67.6.1)\n",
            "Requirement already satisfied: six>=1.5 in /usr/local/lib/python3.9/dist-packages (from python-dateutil>=2.8.1->pandas->factor_analyzer) (1.16.0)\n",
            "Requirement already satisfied: distlib<1,>=0.3.6 in /usr/local/lib/python3.9/dist-packages (from virtualenv>=20.10.0->pre-commit->factor_analyzer) (0.3.6)\n",
            "Requirement already satisfied: filelock<4,>=3.4.1 in /usr/local/lib/python3.9/dist-packages (from virtualenv>=20.10.0->pre-commit->factor_analyzer) (3.11.0)\n",
            "Requirement already satisfied: platformdirs<4,>=2.4 in /usr/local/lib/python3.9/dist-packages (from virtualenv>=20.10.0->pre-commit->factor_analyzer) (3.2.0)\n"
          ]
        }
      ]
    },
    {
      "cell_type": "code",
      "execution_count": 26,
      "metadata": {
        "id": "y51cZgD0kNBj"
      },
      "outputs": [],
      "source": [
        "# Importar bibliotecas\n",
        "import pandas as pd\n",
        "import numpy as np\n",
        "from sklearn.datasets import load_iris\n",
        "from factor_analyzer import FactorAnalyzer\n",
        "import matplotlib.pyplot as plt"
      ]
    },
    {
      "cell_type": "markdown",
      "source": [
        "Em nosso exemplo, iremos utilizar um questionário BFI. \n",
        "\n",
        "É um teste utilizado em psicologia para avaliar os traços de personalidade das pessoas com base em cinco grandes dimensões:\n",
        "\n",
        "* abertura a experiências;\n",
        "* conscienciosidade;\n",
        "* extroversão;\n",
        "* amabilidade;\n",
        "* neuroticismo.\n",
        "\n",
        "O BFI é um instrumento bastante utilizado em pesquisas sobre personalidade, tanto em estudos acadêmicos quanto em pesquisas de mercado. Ele pode ajudar a entender melhor como as pessoas pensam, sentem e se comportam em diferentes situações e como essas características se relacionam com outros aspectos da vida, como saúde mental, desempenho acadêmico e sucesso profissional."
      ],
      "metadata": {
        "id": "V40d98GbnI02"
      }
    },
    {
      "cell_type": "code",
      "source": [
        "df= pd.read_csv(\"bfi.csv\")"
      ],
      "metadata": {
        "id": "sq45GDASm4dN"
      },
      "execution_count": 27,
      "outputs": []
    },
    {
      "cell_type": "code",
      "source": [
        "df.columns"
      ],
      "metadata": {
        "colab": {
          "base_uri": "https://localhost:8080/"
        },
        "id": "zZqsLJKom7gZ",
        "outputId": "e953db53-c53f-4b44-c313-fe9ae134c2ac"
      },
      "execution_count": 28,
      "outputs": [
        {
          "output_type": "execute_result",
          "data": {
            "text/plain": [
              "Index(['Unnamed: 0', 'A1', 'A2', 'A3', 'A4', 'A5', 'C1', 'C2', 'C3', 'C4',\n",
              "       'C5', 'E1', 'E2', 'E3', 'E4', 'E5', 'N1', 'N2', 'N3', 'N4', 'N5', 'O1',\n",
              "       'O2', 'O3', 'O4', 'O5', 'gender', 'education', 'age'],\n",
              "      dtype='object')"
            ]
          },
          "metadata": {},
          "execution_count": 28
        }
      ]
    },
    {
      "cell_type": "code",
      "source": [
        "# Excluir colunas desnecessárias\n",
        "df.drop(['Unnamed: 0','gender', 'education', 'age'],axis=1,inplace=True)"
      ],
      "metadata": {
        "id": "jofbM8DnnEnE"
      },
      "execution_count": 29,
      "outputs": []
    },
    {
      "cell_type": "code",
      "source": [
        "# Excluir valores nulos\n",
        "df.dropna(inplace=True)"
      ],
      "metadata": {
        "id": "OfyYUWJBnQeU"
      },
      "execution_count": 30,
      "outputs": []
    },
    {
      "cell_type": "code",
      "source": [
        "df.head(10)"
      ],
      "metadata": {
        "colab": {
          "base_uri": "https://localhost:8080/",
          "height": 392
        },
        "id": "n_de_EG4m6Ek",
        "outputId": "ffc6f0bf-6f39-4e6f-b1b4-7043fc237678"
      },
      "execution_count": 31,
      "outputs": [
        {
          "output_type": "execute_result",
          "data": {
            "text/plain": [
              "     A1   A2   A3   A4   A5   C1   C2   C3   C4   C5  ...   N1   N2   N3   N4  \\\n",
              "0   2.0  4.0  3.0  4.0  4.0  2.0  3.0  3.0  4.0  4.0  ...  3.0  4.0  2.0  2.0   \n",
              "1   2.0  4.0  5.0  2.0  5.0  5.0  4.0  4.0  3.0  4.0  ...  3.0  3.0  3.0  5.0   \n",
              "2   5.0  4.0  5.0  4.0  4.0  4.0  5.0  4.0  2.0  5.0  ...  4.0  5.0  4.0  2.0   \n",
              "3   4.0  4.0  6.0  5.0  5.0  4.0  4.0  3.0  5.0  5.0  ...  2.0  5.0  2.0  4.0   \n",
              "4   2.0  3.0  3.0  4.0  5.0  4.0  4.0  5.0  3.0  2.0  ...  2.0  3.0  4.0  4.0   \n",
              "5   6.0  6.0  5.0  6.0  5.0  6.0  6.0  6.0  1.0  3.0  ...  3.0  5.0  2.0  2.0   \n",
              "6   2.0  5.0  5.0  3.0  5.0  5.0  4.0  4.0  2.0  3.0  ...  1.0  2.0  2.0  1.0   \n",
              "7   4.0  3.0  1.0  5.0  1.0  3.0  2.0  4.0  2.0  4.0  ...  6.0  3.0  2.0  6.0   \n",
              "9   2.0  5.0  6.0  6.0  5.0  6.0  5.0  6.0  2.0  1.0  ...  5.0  5.0  5.0  2.0   \n",
              "10  4.0  4.0  5.0  6.0  5.0  4.0  3.0  5.0  3.0  2.0  ...  3.0  3.0  4.0  2.0   \n",
              "\n",
              "     N5   O1  O2   O3   O4   O5  \n",
              "0   3.0  3.0   6  3.0  4.0  3.0  \n",
              "1   5.0  4.0   2  4.0  3.0  3.0  \n",
              "2   3.0  4.0   2  5.0  5.0  2.0  \n",
              "3   1.0  3.0   3  4.0  3.0  5.0  \n",
              "4   3.0  3.0   3  4.0  3.0  3.0  \n",
              "5   3.0  4.0   3  5.0  6.0  1.0  \n",
              "6   1.0  5.0   2  5.0  6.0  1.0  \n",
              "7   4.0  3.0   2  4.0  5.0  3.0  \n",
              "9   4.0  5.0   1  5.0  5.0  2.0  \n",
              "10  3.0  5.0   3  5.0  6.0  3.0  \n",
              "\n",
              "[10 rows x 25 columns]"
            ],
            "text/html": [
              "\n",
              "  <div id=\"df-685f754d-167c-4413-b563-67943237e298\">\n",
              "    <div class=\"colab-df-container\">\n",
              "      <div>\n",
              "<style scoped>\n",
              "    .dataframe tbody tr th:only-of-type {\n",
              "        vertical-align: middle;\n",
              "    }\n",
              "\n",
              "    .dataframe tbody tr th {\n",
              "        vertical-align: top;\n",
              "    }\n",
              "\n",
              "    .dataframe thead th {\n",
              "        text-align: right;\n",
              "    }\n",
              "</style>\n",
              "<table border=\"1\" class=\"dataframe\">\n",
              "  <thead>\n",
              "    <tr style=\"text-align: right;\">\n",
              "      <th></th>\n",
              "      <th>A1</th>\n",
              "      <th>A2</th>\n",
              "      <th>A3</th>\n",
              "      <th>A4</th>\n",
              "      <th>A5</th>\n",
              "      <th>C1</th>\n",
              "      <th>C2</th>\n",
              "      <th>C3</th>\n",
              "      <th>C4</th>\n",
              "      <th>C5</th>\n",
              "      <th>...</th>\n",
              "      <th>N1</th>\n",
              "      <th>N2</th>\n",
              "      <th>N3</th>\n",
              "      <th>N4</th>\n",
              "      <th>N5</th>\n",
              "      <th>O1</th>\n",
              "      <th>O2</th>\n",
              "      <th>O3</th>\n",
              "      <th>O4</th>\n",
              "      <th>O5</th>\n",
              "    </tr>\n",
              "  </thead>\n",
              "  <tbody>\n",
              "    <tr>\n",
              "      <th>0</th>\n",
              "      <td>2.0</td>\n",
              "      <td>4.0</td>\n",
              "      <td>3.0</td>\n",
              "      <td>4.0</td>\n",
              "      <td>4.0</td>\n",
              "      <td>2.0</td>\n",
              "      <td>3.0</td>\n",
              "      <td>3.0</td>\n",
              "      <td>4.0</td>\n",
              "      <td>4.0</td>\n",
              "      <td>...</td>\n",
              "      <td>3.0</td>\n",
              "      <td>4.0</td>\n",
              "      <td>2.0</td>\n",
              "      <td>2.0</td>\n",
              "      <td>3.0</td>\n",
              "      <td>3.0</td>\n",
              "      <td>6</td>\n",
              "      <td>3.0</td>\n",
              "      <td>4.0</td>\n",
              "      <td>3.0</td>\n",
              "    </tr>\n",
              "    <tr>\n",
              "      <th>1</th>\n",
              "      <td>2.0</td>\n",
              "      <td>4.0</td>\n",
              "      <td>5.0</td>\n",
              "      <td>2.0</td>\n",
              "      <td>5.0</td>\n",
              "      <td>5.0</td>\n",
              "      <td>4.0</td>\n",
              "      <td>4.0</td>\n",
              "      <td>3.0</td>\n",
              "      <td>4.0</td>\n",
              "      <td>...</td>\n",
              "      <td>3.0</td>\n",
              "      <td>3.0</td>\n",
              "      <td>3.0</td>\n",
              "      <td>5.0</td>\n",
              "      <td>5.0</td>\n",
              "      <td>4.0</td>\n",
              "      <td>2</td>\n",
              "      <td>4.0</td>\n",
              "      <td>3.0</td>\n",
              "      <td>3.0</td>\n",
              "    </tr>\n",
              "    <tr>\n",
              "      <th>2</th>\n",
              "      <td>5.0</td>\n",
              "      <td>4.0</td>\n",
              "      <td>5.0</td>\n",
              "      <td>4.0</td>\n",
              "      <td>4.0</td>\n",
              "      <td>4.0</td>\n",
              "      <td>5.0</td>\n",
              "      <td>4.0</td>\n",
              "      <td>2.0</td>\n",
              "      <td>5.0</td>\n",
              "      <td>...</td>\n",
              "      <td>4.0</td>\n",
              "      <td>5.0</td>\n",
              "      <td>4.0</td>\n",
              "      <td>2.0</td>\n",
              "      <td>3.0</td>\n",
              "      <td>4.0</td>\n",
              "      <td>2</td>\n",
              "      <td>5.0</td>\n",
              "      <td>5.0</td>\n",
              "      <td>2.0</td>\n",
              "    </tr>\n",
              "    <tr>\n",
              "      <th>3</th>\n",
              "      <td>4.0</td>\n",
              "      <td>4.0</td>\n",
              "      <td>6.0</td>\n",
              "      <td>5.0</td>\n",
              "      <td>5.0</td>\n",
              "      <td>4.0</td>\n",
              "      <td>4.0</td>\n",
              "      <td>3.0</td>\n",
              "      <td>5.0</td>\n",
              "      <td>5.0</td>\n",
              "      <td>...</td>\n",
              "      <td>2.0</td>\n",
              "      <td>5.0</td>\n",
              "      <td>2.0</td>\n",
              "      <td>4.0</td>\n",
              "      <td>1.0</td>\n",
              "      <td>3.0</td>\n",
              "      <td>3</td>\n",
              "      <td>4.0</td>\n",
              "      <td>3.0</td>\n",
              "      <td>5.0</td>\n",
              "    </tr>\n",
              "    <tr>\n",
              "      <th>4</th>\n",
              "      <td>2.0</td>\n",
              "      <td>3.0</td>\n",
              "      <td>3.0</td>\n",
              "      <td>4.0</td>\n",
              "      <td>5.0</td>\n",
              "      <td>4.0</td>\n",
              "      <td>4.0</td>\n",
              "      <td>5.0</td>\n",
              "      <td>3.0</td>\n",
              "      <td>2.0</td>\n",
              "      <td>...</td>\n",
              "      <td>2.0</td>\n",
              "      <td>3.0</td>\n",
              "      <td>4.0</td>\n",
              "      <td>4.0</td>\n",
              "      <td>3.0</td>\n",
              "      <td>3.0</td>\n",
              "      <td>3</td>\n",
              "      <td>4.0</td>\n",
              "      <td>3.0</td>\n",
              "      <td>3.0</td>\n",
              "    </tr>\n",
              "    <tr>\n",
              "      <th>5</th>\n",
              "      <td>6.0</td>\n",
              "      <td>6.0</td>\n",
              "      <td>5.0</td>\n",
              "      <td>6.0</td>\n",
              "      <td>5.0</td>\n",
              "      <td>6.0</td>\n",
              "      <td>6.0</td>\n",
              "      <td>6.0</td>\n",
              "      <td>1.0</td>\n",
              "      <td>3.0</td>\n",
              "      <td>...</td>\n",
              "      <td>3.0</td>\n",
              "      <td>5.0</td>\n",
              "      <td>2.0</td>\n",
              "      <td>2.0</td>\n",
              "      <td>3.0</td>\n",
              "      <td>4.0</td>\n",
              "      <td>3</td>\n",
              "      <td>5.0</td>\n",
              "      <td>6.0</td>\n",
              "      <td>1.0</td>\n",
              "    </tr>\n",
              "    <tr>\n",
              "      <th>6</th>\n",
              "      <td>2.0</td>\n",
              "      <td>5.0</td>\n",
              "      <td>5.0</td>\n",
              "      <td>3.0</td>\n",
              "      <td>5.0</td>\n",
              "      <td>5.0</td>\n",
              "      <td>4.0</td>\n",
              "      <td>4.0</td>\n",
              "      <td>2.0</td>\n",
              "      <td>3.0</td>\n",
              "      <td>...</td>\n",
              "      <td>1.0</td>\n",
              "      <td>2.0</td>\n",
              "      <td>2.0</td>\n",
              "      <td>1.0</td>\n",
              "      <td>1.0</td>\n",
              "      <td>5.0</td>\n",
              "      <td>2</td>\n",
              "      <td>5.0</td>\n",
              "      <td>6.0</td>\n",
              "      <td>1.0</td>\n",
              "    </tr>\n",
              "    <tr>\n",
              "      <th>7</th>\n",
              "      <td>4.0</td>\n",
              "      <td>3.0</td>\n",
              "      <td>1.0</td>\n",
              "      <td>5.0</td>\n",
              "      <td>1.0</td>\n",
              "      <td>3.0</td>\n",
              "      <td>2.0</td>\n",
              "      <td>4.0</td>\n",
              "      <td>2.0</td>\n",
              "      <td>4.0</td>\n",
              "      <td>...</td>\n",
              "      <td>6.0</td>\n",
              "      <td>3.0</td>\n",
              "      <td>2.0</td>\n",
              "      <td>6.0</td>\n",
              "      <td>4.0</td>\n",
              "      <td>3.0</td>\n",
              "      <td>2</td>\n",
              "      <td>4.0</td>\n",
              "      <td>5.0</td>\n",
              "      <td>3.0</td>\n",
              "    </tr>\n",
              "    <tr>\n",
              "      <th>9</th>\n",
              "      <td>2.0</td>\n",
              "      <td>5.0</td>\n",
              "      <td>6.0</td>\n",
              "      <td>6.0</td>\n",
              "      <td>5.0</td>\n",
              "      <td>6.0</td>\n",
              "      <td>5.0</td>\n",
              "      <td>6.0</td>\n",
              "      <td>2.0</td>\n",
              "      <td>1.0</td>\n",
              "      <td>...</td>\n",
              "      <td>5.0</td>\n",
              "      <td>5.0</td>\n",
              "      <td>5.0</td>\n",
              "      <td>2.0</td>\n",
              "      <td>4.0</td>\n",
              "      <td>5.0</td>\n",
              "      <td>1</td>\n",
              "      <td>5.0</td>\n",
              "      <td>5.0</td>\n",
              "      <td>2.0</td>\n",
              "    </tr>\n",
              "    <tr>\n",
              "      <th>10</th>\n",
              "      <td>4.0</td>\n",
              "      <td>4.0</td>\n",
              "      <td>5.0</td>\n",
              "      <td>6.0</td>\n",
              "      <td>5.0</td>\n",
              "      <td>4.0</td>\n",
              "      <td>3.0</td>\n",
              "      <td>5.0</td>\n",
              "      <td>3.0</td>\n",
              "      <td>2.0</td>\n",
              "      <td>...</td>\n",
              "      <td>3.0</td>\n",
              "      <td>3.0</td>\n",
              "      <td>4.0</td>\n",
              "      <td>2.0</td>\n",
              "      <td>3.0</td>\n",
              "      <td>5.0</td>\n",
              "      <td>3</td>\n",
              "      <td>5.0</td>\n",
              "      <td>6.0</td>\n",
              "      <td>3.0</td>\n",
              "    </tr>\n",
              "  </tbody>\n",
              "</table>\n",
              "<p>10 rows × 25 columns</p>\n",
              "</div>\n",
              "      <button class=\"colab-df-convert\" onclick=\"convertToInteractive('df-685f754d-167c-4413-b563-67943237e298')\"\n",
              "              title=\"Convert this dataframe to an interactive table.\"\n",
              "              style=\"display:none;\">\n",
              "        \n",
              "  <svg xmlns=\"http://www.w3.org/2000/svg\" height=\"24px\"viewBox=\"0 0 24 24\"\n",
              "       width=\"24px\">\n",
              "    <path d=\"M0 0h24v24H0V0z\" fill=\"none\"/>\n",
              "    <path d=\"M18.56 5.44l.94 2.06.94-2.06 2.06-.94-2.06-.94-.94-2.06-.94 2.06-2.06.94zm-11 1L8.5 8.5l.94-2.06 2.06-.94-2.06-.94L8.5 2.5l-.94 2.06-2.06.94zm10 10l.94 2.06.94-2.06 2.06-.94-2.06-.94-.94-2.06-.94 2.06-2.06.94z\"/><path d=\"M17.41 7.96l-1.37-1.37c-.4-.4-.92-.59-1.43-.59-.52 0-1.04.2-1.43.59L10.3 9.45l-7.72 7.72c-.78.78-.78 2.05 0 2.83L4 21.41c.39.39.9.59 1.41.59.51 0 1.02-.2 1.41-.59l7.78-7.78 2.81-2.81c.8-.78.8-2.07 0-2.86zM5.41 20L4 18.59l7.72-7.72 1.47 1.35L5.41 20z\"/>\n",
              "  </svg>\n",
              "      </button>\n",
              "      \n",
              "  <style>\n",
              "    .colab-df-container {\n",
              "      display:flex;\n",
              "      flex-wrap:wrap;\n",
              "      gap: 12px;\n",
              "    }\n",
              "\n",
              "    .colab-df-convert {\n",
              "      background-color: #E8F0FE;\n",
              "      border: none;\n",
              "      border-radius: 50%;\n",
              "      cursor: pointer;\n",
              "      display: none;\n",
              "      fill: #1967D2;\n",
              "      height: 32px;\n",
              "      padding: 0 0 0 0;\n",
              "      width: 32px;\n",
              "    }\n",
              "\n",
              "    .colab-df-convert:hover {\n",
              "      background-color: #E2EBFA;\n",
              "      box-shadow: 0px 1px 2px rgba(60, 64, 67, 0.3), 0px 1px 3px 1px rgba(60, 64, 67, 0.15);\n",
              "      fill: #174EA6;\n",
              "    }\n",
              "\n",
              "    [theme=dark] .colab-df-convert {\n",
              "      background-color: #3B4455;\n",
              "      fill: #D2E3FC;\n",
              "    }\n",
              "\n",
              "    [theme=dark] .colab-df-convert:hover {\n",
              "      background-color: #434B5C;\n",
              "      box-shadow: 0px 1px 3px 1px rgba(0, 0, 0, 0.15);\n",
              "      filter: drop-shadow(0px 1px 2px rgba(0, 0, 0, 0.3));\n",
              "      fill: #FFFFFF;\n",
              "    }\n",
              "  </style>\n",
              "\n",
              "      <script>\n",
              "        const buttonEl =\n",
              "          document.querySelector('#df-685f754d-167c-4413-b563-67943237e298 button.colab-df-convert');\n",
              "        buttonEl.style.display =\n",
              "          google.colab.kernel.accessAllowed ? 'block' : 'none';\n",
              "\n",
              "        async function convertToInteractive(key) {\n",
              "          const element = document.querySelector('#df-685f754d-167c-4413-b563-67943237e298');\n",
              "          const dataTable =\n",
              "            await google.colab.kernel.invokeFunction('convertToInteractive',\n",
              "                                                     [key], {});\n",
              "          if (!dataTable) return;\n",
              "\n",
              "          const docLinkHtml = 'Like what you see? Visit the ' +\n",
              "            '<a target=\"_blank\" href=https://colab.research.google.com/notebooks/data_table.ipynb>data table notebook</a>'\n",
              "            + ' to learn more about interactive tables.';\n",
              "          element.innerHTML = '';\n",
              "          dataTable['output_type'] = 'display_data';\n",
              "          await google.colab.output.renderOutput(dataTable, element);\n",
              "          const docLink = document.createElement('div');\n",
              "          docLink.innerHTML = docLinkHtml;\n",
              "          element.appendChild(docLink);\n",
              "        }\n",
              "      </script>\n",
              "    </div>\n",
              "  </div>\n",
              "  "
            ]
          },
          "metadata": {},
          "execution_count": 31
        }
      ]
    },
    {
      "cell_type": "code",
      "source": [
        "df.shape"
      ],
      "metadata": {
        "colab": {
          "base_uri": "https://localhost:8080/"
        },
        "id": "--Zsz0fsDGlr",
        "outputId": "ed7bc470-bfa4-4d6e-dd1b-06a5eb24eb0a"
      },
      "execution_count": 32,
      "outputs": [
        {
          "output_type": "execute_result",
          "data": {
            "text/plain": [
              "(2436, 25)"
            ]
          },
          "metadata": {},
          "execution_count": 32
        }
      ]
    },
    {
      "cell_type": "markdown",
      "source": [
        "# Análise fatorial"
      ],
      "metadata": {
        "id": "icx6nWJqnweF"
      }
    },
    {
      "cell_type": "markdown",
      "source": [
        "## Análise exploratória"
      ],
      "metadata": {
        "id": "IUvDyvEQrCZS"
      }
    },
    {
      "cell_type": "markdown",
      "source": [
        "O teste de esfericidade de Bartlett é uma estatística utilizada para avaliar se a matriz de correlação das variáveis é uma matriz de correlação esférica, ou seja, todas as variáveis estão igualmente correlacionadas entre si. Em outras palavras, o teste avalia se as correlações entre as variáveis são significativamente diferentes de zero. Caso sim, isso significa que as variáveis estão relacionadas entre si e podem ser agrupadas em fatores. Se o valor p do teste de Bartlett for menor que o nível de significância escolhido (geralmente 0,05), rejeitamos a hipótese nula e concluímos que a matriz de correlação não é esférica e, portanto, é adequada para a análise fatorial."
      ],
      "metadata": {
        "id": "H7ymFyEbnzEl"
      }
    },
    {
      "cell_type": "code",
      "source": [
        "from factor_analyzer.factor_analyzer import calculate_bartlett_sphericity\n",
        "chi_square_value,p_value=calculate_bartlett_sphericity(df)\n",
        "chi_square_value, p_value"
      ],
      "metadata": {
        "colab": {
          "base_uri": "https://localhost:8080/"
        },
        "id": "SCNIDVAqnfre",
        "outputId": "9177ca14-b0da-45d4-983b-106a1802129f"
      },
      "execution_count": 33,
      "outputs": [
        {
          "output_type": "execute_result",
          "data": {
            "text/plain": [
              "(18146.065577235022, 0.0)"
            ]
          },
          "metadata": {},
          "execution_count": 33
        }
      ]
    },
    {
      "cell_type": "markdown",
      "source": [
        "O KMO (Kaiser-Meyer-Olkin) é uma medida de adequação amostral utilizada na análise fatorial exploratória para avaliar se os dados são adequados para essa técnica. É uma estatística que varia de 0 a 1, onde valores mais próximos de 1 indicam que os dados são mais adequados para a análise fatorial.\n",
        "\n",
        "O KMO é calculado a partir da matriz de correlação das variáveis e mede a proporção de variância comum entre as variáveis que pode ser extraída por meio dos fatores. Ele avalia se as correlações entre as variáveis são fortes o suficiente para justificar a extração dos fatores e se os dados são adequados para a análise fatorial exploratória."
      ],
      "metadata": {
        "id": "z3HGuesRokAf"
      }
    },
    {
      "cell_type": "code",
      "source": [
        "from factor_analyzer.factor_analyzer import calculate_kmo\n",
        "kmo_all,kmo_model=calculate_kmo(df)\n",
        "kmo_model"
      ],
      "metadata": {
        "colab": {
          "base_uri": "https://localhost:8080/"
        },
        "id": "GfO2ang0nmnE",
        "outputId": "66455e63-e66a-46cc-fdc9-5eb47d391809"
      },
      "execution_count": 34,
      "outputs": [
        {
          "output_type": "execute_result",
          "data": {
            "text/plain": [
              "0.8486452309468395"
            ]
          },
          "metadata": {},
          "execution_count": 34
        }
      ]
    },
    {
      "cell_type": "markdown",
      "source": [
        "Os autovalores são uma medida da quantidade de variância explicada por cada fator. Na análise fatorial, a ideia é resumir a informação contida em um grande número de variáveis observadas em um número menor de fatores latentes.\n",
        "\n",
        "Cada fator é uma combinação linear das variáveis observadas, e a ideia é que os fatores expliquem a maior parte da variância nas variáveis observadas. Os autovalores são calculados a partir da matriz de correlação das variáveis observadas e medem a variância explicada por cada fator.Em geral, os autovalores maiores que 1 são considerados relevantes e indicam que o fator explica mais variância do que uma variável individual.\n",
        "\n",
        "Além disso, os autovalores podem ser utilizados para determinar o número de fatores a serem extraídos. Uma abordagem comum é a \"regra do ponto de quebra\" ou \"critério de Kaiser\", que sugere extrair apenas os fatores com autovalores maiores que 1. Outra abordagem é a análise de scree plot, que exibe a relação entre o número de fatores e os autovalores e sugere o número de fatores a partir do ponto em que os autovalores caem abruptamente."
      ],
      "metadata": {
        "id": "I3ooRJBEqGei"
      }
    },
    {
      "cell_type": "code",
      "source": [
        "# Criamos um objecto de Análise Fatorial e rodamos a análise\n",
        "fa = FactorAnalyzer()\n",
        "fa.fit(df)\n",
        "# Verificamos os autovalores\n",
        "ev, v = fa.get_eigenvalues()\n",
        "ev"
      ],
      "metadata": {
        "colab": {
          "base_uri": "https://localhost:8080/"
        },
        "id": "2QnU7okGntfz",
        "outputId": "d23399e0-dbf7-45e4-9c31-dc7415a23e1f"
      },
      "execution_count": 35,
      "outputs": [
        {
          "output_type": "execute_result",
          "data": {
            "text/plain": [
              "array([5.13431118, 2.75188667, 2.14270195, 1.85232761, 1.54816285,\n",
              "       1.07358247, 0.83953893, 0.79920618, 0.71898919, 0.68808879,\n",
              "       0.67637336, 0.65179984, 0.62325295, 0.59656284, 0.56309083,\n",
              "       0.54330533, 0.51451752, 0.49450315, 0.48263952, 0.448921  ,\n",
              "       0.42336611, 0.40067145, 0.38780448, 0.38185679, 0.26253902])"
            ]
          },
          "metadata": {},
          "execution_count": 35
        }
      ]
    },
    {
      "cell_type": "code",
      "source": [
        "# Scree plot\n",
        "plt.scatter(range(1,df.shape[1]+1),ev)\n",
        "plt.plot(range(1,df.shape[1]+1),ev)\n",
        "plt.title('Scree Plot', fontdict={'fontsize':16, 'weight':'bold'})\n",
        "plt.xlabel('Fatores',fontdict={'fontsize':13, 'weight':'bold'})\n",
        "plt.ylabel('Autovalores', fontdict={'fontsize':13, 'weight':'bold'})\n",
        "plt.grid()\n",
        "plt.show()"
      ],
      "metadata": {
        "colab": {
          "base_uri": "https://localhost:8080/",
          "height": 478
        },
        "id": "sPJNfnSCnzbt",
        "outputId": "7cc0e58c-a4a5-4b05-e595-6acc04b795bc"
      },
      "execution_count": 36,
      "outputs": [
        {
          "output_type": "display_data",
          "data": {
            "text/plain": [
              "<Figure size 640x480 with 1 Axes>"
            ],
            "image/png": "[encoded data removed]"
          },
          "metadata": {}
        }
      ]
    },
    {
      "cell_type": "markdown",
      "source": [
        "Da análise exploratória, podemos começar testando com 6 fatores latentes. "
      ],
      "metadata": {
        "id": "n1lm7pMtqr4h"
      }
    },
    {
      "cell_type": "markdown",
      "source": [
        "## Resultados"
      ],
      "metadata": {
        "id": "BkznElcJq4dS"
      }
    },
    {
      "cell_type": "markdown",
      "source": [
        "As cargas fatoriais são coeficientes que indicam a relação entre cada variável observada e cada fator latente extraído. Esses coeficientes são calculados durante o processo de extração dos fatores e indicam o quanto cada variável contribui para a formação de cada fator.\n",
        "\n",
        "São expressos em valores numéricos que variam de -1 a 1 e indicam a direção e a intensidade da relação entre a variável e o fator. Valores positivos indicam uma relação direta (ou seja, quando uma variável aumenta, o fator também aumenta) e valores negativos indicam uma relação inversa (ou seja, quando uma variável aumenta, o fator diminui).\n",
        "\n",
        "Valores absolutos altos de cargas fatoriais indicam que a variável está fortemente associada ao fator e pode ser considerada uma boa medida do fator. Valores absolutos baixos indicam que a variável não está bem relacionada ao fator e pode ser removida do modelo.\n",
        "\n",
        "É comum considerar 0.3 como ponto de corte para as cargas fatoriais.\n",
        "\n"
      ],
      "metadata": {
        "id": "q172oFcmrcL6"
      }
    },
    {
      "cell_type": "markdown",
      "source": [
        "A análse exploratória indicou que podemos decompor em 6 fatores. Vamos testar com esse valor inicialmente."
      ],
      "metadata": {
        "id": "iNgkd-7XBZOj"
      }
    },
    {
      "cell_type": "code",
      "source": [
        "fa = FactorAnalyzer(n_factors=6, rotation='varimax')\n",
        "fa.fit(df)"
      ],
      "metadata": {
        "colab": {
          "base_uri": "https://localhost:8080/",
          "height": 75
        },
        "id": "sRuC-ocKopuD",
        "outputId": "8073f457-5b09-4092-af15-fd2708f83483"
      },
      "execution_count": 37,
      "outputs": [
        {
          "output_type": "execute_result",
          "data": {
            "text/plain": [
              "FactorAnalyzer(n_factors=6, rotation='varimax', rotation_kwargs={})"
            ],
            "text/html": [
              "<style>#sk-container-id-2 {color: black;background-color: white;}#sk-container-id-2 pre{padding: 0;}#sk-container-id-2 div.sk-toggleable {background-color: white;}#sk-container-id-2 label.sk-toggleable__label {cursor: pointer;display: block;width: 100%;margin-bottom: 0;padding: 0.3em;box-sizing: border-box;text-align: center;}#sk-container-id-2 label.sk-toggleable__label-arrow:before {content: \"▸\";float: left;margin-right: 0.25em;color: #696969;}#sk-container-id-2 label.sk-toggleable__label-arrow:hover:before {color: black;}#sk-container-id-2 div.sk-estimator:hover label.sk-toggleable__label-arrow:before {color: black;}#sk-container-id-2 div.sk-toggleable__content {max-height: 0;max-width: 0;overflow: hidden;text-align: left;background-color: #f0f8ff;}#sk-container-id-2 div.sk-toggleable__content pre {margin: 0.2em;color: black;border-radius: 0.25em;background-color: #f0f8ff;}#sk-container-id-2 input.sk-toggleable__control:checked~div.sk-toggleable__content {max-height: 200px;max-width: 100%;overflow: auto;}#sk-container-id-2 input.sk-toggleable__control:checked~label.sk-toggleable__label-arrow:before {content: \"▾\";}#sk-container-id-2 div.sk-estimator input.sk-toggleable__control:checked~label.sk-toggleable__label {background-color: #d4ebff;}#sk-container-id-2 div.sk-label input.sk-toggleable__control:checked~label.sk-toggleable__label {background-color: #d4ebff;}#sk-container-id-2 input.sk-hidden--visually {border: 0;clip: rect(1px 1px 1px 1px);clip: rect(1px, 1px, 1px, 1px);height: 1px;margin: -1px;overflow: hidden;padding: 0;position: absolute;width: 1px;}#sk-container-id-2 div.sk-estimator {font-family: monospace;background-color: #f0f8ff;border: 1px dotted black;border-radius: 0.25em;box-sizing: border-box;margin-bottom: 0.5em;}#sk-container-id-2 div.sk-estimator:hover {background-color: #d4ebff;}#sk-container-id-2 div.sk-parallel-item::after {content: \"\";width: 100%;border-bottom: 1px solid gray;flex-grow: 1;}#sk-container-id-2 div.sk-label:hover label.sk-toggleable__label {background-color: #d4ebff;}#sk-container-id-2 div.sk-serial::before {content: \"\";position: absolute;border-left: 1px solid gray;box-sizing: border-box;top: 0;bottom: 0;left: 50%;z-index: 0;}#sk-container-id-2 div.sk-serial {display: flex;flex-direction: column;align-items: center;background-color: white;padding-right: 0.2em;padding-left: 0.2em;position: relative;}#sk-container-id-2 div.sk-item {position: relative;z-index: 1;}#sk-container-id-2 div.sk-parallel {display: flex;align-items: stretch;justify-content: center;background-color: white;position: relative;}#sk-container-id-2 div.sk-item::before, #sk-container-id-2 div.sk-parallel-item::before {content: \"\";position: absolute;border-left: 1px solid gray;box-sizing: border-box;top: 0;bottom: 0;left: 50%;z-index: -1;}#sk-container-id-2 div.sk-parallel-item {display: flex;flex-direction: column;z-index: 1;position: relative;background-color: white;}#sk-container-id-2 div.sk-parallel-item:first-child::after {align-self: flex-end;width: 50%;}#sk-container-id-2 div.sk-parallel-item:last-child::after {align-self: flex-start;width: 50%;}#sk-container-id-2 div.sk-parallel-item:only-child::after {width: 0;}#sk-container-id-2 div.sk-dashed-wrapped {border: 1px dashed gray;margin: 0 0.4em 0.5em 0.4em;box-sizing: border-box;padding-bottom: 0.4em;background-color: white;}#sk-container-id-2 div.sk-label label {font-family: monospace;font-weight: bold;display: inline-block;line-height: 1.2em;}#sk-container-id-2 div.sk-label-container {text-align: center;}#sk-container-id-2 div.sk-container {/* jupyter's `normalize.less` sets `[hidden] { display: none; }` but bootstrap.min.css set `[hidden] { display: none !important; }` so we also need the `!important` here to be able to override the default hidden behavior on the sphinx rendered scikit-learn.org. See: https://github.com/scikit-learn/scikit-learn/issues/21755 */display: inline-block !important;position: relative;}#sk-container-id-2 div.sk-text-repr-fallback {display: none;}</style><div id=\"sk-container-id-2\" class=\"sk-top-container\"><div class=\"sk-text-repr-fallback\"><pre>FactorAnalyzer(n_factors=6, rotation=&#x27;varimax&#x27;, rotation_kwargs={})</pre><b>In a Jupyter environment, please rerun this cell to show the HTML representation or trust the notebook. <br />On GitHub, the HTML representation is unable to render, please try loading this page with nbviewer.org.</b></div><div class=\"sk-container\" hidden><div class=\"sk-item\"><div class=\"sk-estimator sk-toggleable\"><input class=\"sk-toggleable__control sk-hidden--visually\" id=\"sk-estimator-id-2\" type=\"checkbox\" checked><label for=\"sk-estimator-id-2\" class=\"sk-toggleable__label sk-toggleable__label-arrow\">FactorAnalyzer</label><div class=\"sk-toggleable__content\"><pre>FactorAnalyzer(n_factors=6, rotation=&#x27;varimax&#x27;, rotation_kwargs={})</pre></div></div></div></div></div>"
            ]
          },
          "metadata": {},
          "execution_count": 37
        }
      ]
    },
    {
      "cell_type": "markdown",
      "source": [
        "Vamos criar uma função para printar os fatores na tela"
      ],
      "metadata": {
        "id": "etfSYsZskDyD"
      }
    },
    {
      "cell_type": "code",
      "source": [
        "def print_loadings(columns: list[str], loadings:np.ndarray):\n",
        "  num_factors = loadings.shape[-1]\n",
        "  head = \"Coluna\\t\\t\" + \"\\t\\t\".join([f\"Fator{i+1}\" for i in range(num_factors)])\n",
        "  print(head)\n",
        "  for index, loading in enumerate(loadings):\n",
        "    print(f\"{columns[index]}\\t\\t\"+\"\\t\\t\".join([str(round(l,4)) for l in loading]))"
      ],
      "metadata": {
        "id": "8SeZ_Xi0kHsn"
      },
      "execution_count": 38,
      "outputs": []
    },
    {
      "cell_type": "code",
      "source": [
        "print_loadings(df.columns, fa.loadings_)"
      ],
      "metadata": {
        "colab": {
          "base_uri": "https://localhost:8080/"
        },
        "id": "gyfpK2oOnPAT",
        "outputId": "152e1b67-4327-4de4-ce9c-d0455c329768"
      },
      "execution_count": 40,
      "outputs": [
        {
          "output_type": "stream",
          "name": "stdout",
          "text": [
            "Coluna\t\tFator1\t\tFator2\t\tFator3\t\tFator4\t\tFator5\t\tFator6\n",
            "A1\t\t0.0952\t\t0.0408\t\t0.0487\t\t-0.531\t\t-0.1131\t\t0.1612\n",
            "A2\t\t0.0331\t\t0.2355\t\t0.1337\t\t0.6611\t\t0.0637\t\t-0.0062\n",
            "A3\t\t-0.0096\t\t0.343\t\t0.1214\t\t0.6059\t\t0.034\t\t0.1601\n",
            "A4\t\t-0.0815\t\t0.2197\t\t0.2351\t\t0.4046\t\t-0.1253\t\t0.0864\n",
            "A5\t\t-0.1496\t\t0.4145\t\t0.1064\t\t0.4697\t\t0.031\t\t0.2365\n",
            "C1\t\t-0.0044\t\t0.0772\t\t0.5546\t\t0.0075\t\t0.1901\t\t0.095\n",
            "C2\t\t0.0683\t\t0.0384\t\t0.6745\t\t0.0571\t\t0.0876\t\t0.1528\n",
            "C3\t\t-0.04\t\t0.0319\t\t0.5512\t\t0.1013\t\t-0.0113\t\t0.009\n",
            "C4\t\t0.2163\t\t-0.0662\t\t-0.6385\t\t-0.1026\t\t-0.1438\t\t0.3184\n",
            "C5\t\t0.2842\t\t-0.1808\t\t-0.5448\t\t-0.06\t\t0.0258\t\t0.1324\n",
            "E1\t\t0.0223\t\t-0.5905\t\t0.0539\t\t-0.1309\t\t-0.0712\t\t0.1566\n",
            "E2\t\t0.2336\t\t-0.6846\t\t-0.0885\t\t-0.1167\t\t-0.0456\t\t0.1151\n",
            "E3\t\t-0.0009\t\t0.5568\t\t0.1034\t\t0.1794\t\t0.2412\t\t0.2673\n",
            "E4\t\t-0.1368\t\t0.6584\t\t0.1138\t\t0.2411\t\t-0.1078\t\t0.1585\n",
            "E5\t\t0.0345\t\t0.5075\t\t0.3098\t\t0.0788\t\t0.2008\t\t0.0087\n",
            "N1\t\t0.8058\t\t0.068\t\t-0.0513\t\t-0.1748\t\t-0.075\t\t-0.0963\n",
            "N2\t\t0.7898\t\t0.023\t\t-0.0375\t\t-0.1411\t\t0.0067\t\t-0.1398\n",
            "N3\t\t0.7251\t\t-0.0657\t\t-0.059\t\t-0.0192\t\t-0.0107\t\t0.0625\n",
            "N4\t\t0.5783\t\t-0.3451\t\t-0.1622\t\t0.0004\t\t0.0629\t\t0.1476\n",
            "N5\t\t0.5231\t\t-0.1617\t\t-0.0253\t\t0.0901\t\t-0.1619\t\t0.12\n",
            "O1\t\t-0.02\t\t0.2253\t\t0.1332\t\t0.0052\t\t0.4795\t\t0.2187\n",
            "O2\t\t0.1562\t\t-0.002\t\t-0.086\t\t0.044\t\t-0.4966\t\t0.1347\n",
            "O3\t\t0.0119\t\t0.326\t\t0.0939\t\t0.0766\t\t0.5661\t\t0.2108\n",
            "O4\t\t0.2073\t\t-0.1777\t\t-0.0057\t\t0.1337\t\t0.3492\t\t0.1781\n",
            "O5\t\t0.0632\t\t-0.0142\t\t-0.0471\t\t-0.0576\t\t-0.5767\t\t0.1359\n"
          ]
        }
      ]
    },
    {
      "cell_type": "markdown",
      "source": [
        "Mas observe que as cargas fatorias do Fator 6 foram todas baixas, poucas acima de 0.3. Isso é um indicativo de que talvez o Fator 6 não seja relevante, e que podemos explicar as variáveis apenas com 5 fatores. E, de fato, isso corrobora com a teoria do Big Five, a qual diz que podemos agrupar a personalidade em 5 grandes dimensões. \n",
        "\n",
        "Vejamos a mesma análise agora utilizando 5 fatores."
      ],
      "metadata": {
        "id": "Hz0ZYPCbBlix"
      }
    },
    {
      "cell_type": "code",
      "source": [
        "fa = FactorAnalyzer(n_factors=5, rotation='varimax')\n",
        "fa.fit(df)\n",
        "fa.loadings_"
      ],
      "metadata": {
        "colab": {
          "base_uri": "https://localhost:8080/"
        },
        "id": "NwIE_dKWpXIB",
        "outputId": "0f130a32-34a4-4016-8736-d9f04ea5d2aa"
      },
      "execution_count": 41,
      "outputs": [
        {
          "output_type": "execute_result",
          "data": {
            "text/plain": [
              "array([[ 0.11112641,  0.04046493,  0.02279796, -0.42816554, -0.07793074],\n",
              "       [ 0.029588  ,  0.21371606,  0.13903739,  0.62694553,  0.06213921],\n",
              "       [ 0.00935691,  0.31784809,  0.10933115,  0.65074261,  0.05619584],\n",
              "       [-0.06647574,  0.20456624,  0.23058374,  0.43562383, -0.1127004 ],\n",
              "       [-0.12211317,  0.39303367,  0.0878692 ,  0.53708686,  0.0667076 ],\n",
              "       [ 0.01041556,  0.07018423,  0.54582379,  0.03887794,  0.20958365],\n",
              "       [ 0.08957412,  0.0332704 ,  0.64873118,  0.10278247,  0.11543389],\n",
              "       [-0.03085502,  0.02390651,  0.55703585,  0.11157762, -0.00518271],\n",
              "       [ 0.24041008, -0.0649837 , -0.63380555, -0.03749823, -0.107535  ],\n",
              "       [ 0.29031777, -0.1763948 , -0.56246672, -0.04752477,  0.03682235],\n",
              "       [ 0.04281888, -0.5748346 ,  0.03314352, -0.10481258, -0.05879528],\n",
              "       [ 0.24474268, -0.67873071, -0.10248265, -0.11251716, -0.04200997],\n",
              "       [ 0.02418041,  0.53681627,  0.08301031,  0.2579065 ,  0.28087734],\n",
              "       [-0.11561383,  0.64683266,  0.1020229 ,  0.3061013 , -0.07342224],\n",
              "       [ 0.0361453 ,  0.50406876,  0.31289947,  0.09035398,  0.21373932],\n",
              "       [ 0.78680747,  0.0789227 , -0.04599686, -0.21636343, -0.08470394],\n",
              "       [ 0.75410893,  0.02730105, -0.03056816, -0.19374409, -0.01030371],\n",
              "       [ 0.73172071, -0.0614302 , -0.06708415, -0.02771164, -0.00421723],\n",
              "       [ 0.59060205, -0.3453884 , -0.17890189,  0.00588617,  0.07522516],\n",
              "       [ 0.53785785, -0.16129053, -0.03730883,  0.10093148, -0.14976921],\n",
              "       [-0.00222396,  0.21300477,  0.1150799 ,  0.06155001,  0.50490717],\n",
              "       [ 0.17578784,  0.00455977, -0.09972866,  0.08180863, -0.46892525],\n",
              "       [ 0.02673618,  0.31095612,  0.07687283,  0.12688914,  0.5960066 ],\n",
              "       [ 0.22058215, -0.19119609, -0.0219056 ,  0.15547476,  0.36901221],\n",
              "       [ 0.08540105, -0.00534708, -0.06272953, -0.01038386, -0.53377797]])"
            ]
          },
          "metadata": {},
          "execution_count": 41
        }
      ]
    },
    {
      "cell_type": "code",
      "source": [
        "print_loadings(df.columns, fa.loadings_)"
      ],
      "metadata": {
        "colab": {
          "base_uri": "https://localhost:8080/"
        },
        "id": "riYPSXthnd1p",
        "outputId": "55bb8e53-8ad4-4cc1-d518-f5452c105bba"
      },
      "execution_count": 42,
      "outputs": [
        {
          "output_type": "stream",
          "name": "stdout",
          "text": [
            "Coluna\t\tFator1\t\tFator2\t\tFator3\t\tFator4\t\tFator5\n",
            "A1\t\t0.1111\t\t0.0405\t\t0.0228\t\t-0.4282\t\t-0.0779\n",
            "A2\t\t0.0296\t\t0.2137\t\t0.139\t\t0.6269\t\t0.0621\n",
            "A3\t\t0.0094\t\t0.3178\t\t0.1093\t\t0.6507\t\t0.0562\n",
            "A4\t\t-0.0665\t\t0.2046\t\t0.2306\t\t0.4356\t\t-0.1127\n",
            "A5\t\t-0.1221\t\t0.393\t\t0.0879\t\t0.5371\t\t0.0667\n",
            "C1\t\t0.0104\t\t0.0702\t\t0.5458\t\t0.0389\t\t0.2096\n",
            "C2\t\t0.0896\t\t0.0333\t\t0.6487\t\t0.1028\t\t0.1154\n",
            "C3\t\t-0.0309\t\t0.0239\t\t0.557\t\t0.1116\t\t-0.0052\n",
            "C4\t\t0.2404\t\t-0.065\t\t-0.6338\t\t-0.0375\t\t-0.1075\n",
            "C5\t\t0.2903\t\t-0.1764\t\t-0.5625\t\t-0.0475\t\t0.0368\n",
            "E1\t\t0.0428\t\t-0.5748\t\t0.0331\t\t-0.1048\t\t-0.0588\n",
            "E2\t\t0.2447\t\t-0.6787\t\t-0.1025\t\t-0.1125\t\t-0.042\n",
            "E3\t\t0.0242\t\t0.5368\t\t0.083\t\t0.2579\t\t0.2809\n",
            "E4\t\t-0.1156\t\t0.6468\t\t0.102\t\t0.3061\t\t-0.0734\n",
            "E5\t\t0.0361\t\t0.5041\t\t0.3129\t\t0.0904\t\t0.2137\n",
            "N1\t\t0.7868\t\t0.0789\t\t-0.046\t\t-0.2164\t\t-0.0847\n",
            "N2\t\t0.7541\t\t0.0273\t\t-0.0306\t\t-0.1937\t\t-0.0103\n",
            "N3\t\t0.7317\t\t-0.0614\t\t-0.0671\t\t-0.0277\t\t-0.0042\n",
            "N4\t\t0.5906\t\t-0.3454\t\t-0.1789\t\t0.0059\t\t0.0752\n",
            "N5\t\t0.5379\t\t-0.1613\t\t-0.0373\t\t0.1009\t\t-0.1498\n",
            "O1\t\t-0.0022\t\t0.213\t\t0.1151\t\t0.0616\t\t0.5049\n",
            "O2\t\t0.1758\t\t0.0046\t\t-0.0997\t\t0.0818\t\t-0.4689\n",
            "O3\t\t0.0267\t\t0.311\t\t0.0769\t\t0.1269\t\t0.596\n",
            "O4\t\t0.2206\t\t-0.1912\t\t-0.0219\t\t0.1555\t\t0.369\n",
            "O5\t\t0.0854\t\t-0.0053\t\t-0.0627\t\t-0.0104\t\t-0.5338\n"
          ]
        }
      ]
    },
    {
      "cell_type": "markdown",
      "source": [
        "Vemos que os resultados foram bem consistentes. Cada grupo de variáveis agrupadas segundo a teoria do Big Five foi, de fato, associado a um fator calculado pela análise fatorial.\n",
        "\n",
        "Em resumo:\n",
        "\n",
        "* Fator 1 = neuroticismo\n",
        "* Fator 2 = extroversão\n",
        "* Fator 3 = conscienciosidade\n",
        "* Fator 4 = amabilidade\n",
        "* Fator 5 = abertura a experiências"
      ],
      "metadata": {
        "id": "27iWHKHyEzAd"
      }
    }
  ]
}